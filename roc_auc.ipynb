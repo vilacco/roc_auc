{
  "nbformat": 4,
  "nbformat_minor": 0,
  "metadata": {
    "colab": {
      "name": "roc_auc.ipynb",
      "provenance": [],
      "collapsed_sections": [],
      "authorship_tag": "ABX9TyPuOvPR6YGMoucDl0xI70cz",
      "include_colab_link": true
    },
    "kernelspec": {
      "name": "python3",
      "display_name": "Python 3"
    },
    "language_info": {
      "name": "python"
    }
  },
  "cells": [
    {
      "cell_type": "markdown",
      "metadata": {
        "id": "view-in-github",
        "colab_type": "text"
      },
      "source": [
        "<a href=\"https://colab.research.google.com/github/vilacco/roc_auc/blob/main/roc_auc.ipynb\" target=\"_parent\"><img src=\"https://colab.research.google.com/assets/colab-badge.svg\" alt=\"Open In Colab\"/></a>"
      ]
    },
    {
      "cell_type": "code",
      "metadata": {
        "id": "rYloa6i7IWoU"
      },
      "source": [
        "import pandas as pd\n",
        "import numpy as np"
      ],
      "execution_count": null,
      "outputs": []
    },
    {
      "cell_type": "code",
      "metadata": {
        "id": "FCUJY9IEkK6t"
      },
      "source": [
        "from sklearn.datasets import make_classification\n",
        "from sklearn.linear_model import LogisticRegression"
      ],
      "execution_count": null,
      "outputs": []
    },
    {
      "cell_type": "code",
      "metadata": {
        "id": "H4Xo9MMwD-CB"
      },
      "source": [
        "X, Y = make_classification(n_samples=15,n_features=5,class_sep=0.2,weights=[0.6],random_state=42)\n",
        "df = pd.DataFrame(X)\n",
        "df['y_true'] = Y\n",
        "lr = LogisticRegression()"
      ],
      "execution_count": null,
      "outputs": []
    },
    {
      "cell_type": "code",
      "metadata": {
        "colab": {
          "base_uri": "https://localhost:8080/"
        },
        "id": "G3ZqboWgEaRA",
        "outputId": "36e68f40-762a-42cf-b621-013528e68f9b"
      },
      "source": [
        "lr.fit(df[[0,1,2,3,4]], df['y_true'])"
      ],
      "execution_count": null,
      "outputs": [
        {
          "output_type": "execute_result",
          "data": {
            "text/plain": [
              "LogisticRegression(C=1.0, class_weight=None, dual=False, fit_intercept=True,\n",
              "                   intercept_scaling=1, l1_ratio=None, max_iter=100,\n",
              "                   multi_class='auto', n_jobs=None, penalty='l2',\n",
              "                   random_state=None, solver='lbfgs', tol=0.0001, verbose=0,\n",
              "                   warm_start=False)"
            ]
          },
          "metadata": {},
          "execution_count": 5
        }
      ]
    },
    {
      "cell_type": "code",
      "metadata": {
        "colab": {
          "base_uri": "https://localhost:8080/"
        },
        "id": "-j6of_2gGeJL",
        "outputId": "f71525fb-0cd5-4f55-c9b6-e2916ece17f9"
      },
      "source": [
        "lr.predict(df[[0,1,2,3,4]])"
      ],
      "execution_count": null,
      "outputs": [
        {
          "output_type": "execute_result",
          "data": {
            "text/plain": [
              "array([1, 1, 1, 0, 1, 0, 0, 0, 0, 0, 0, 0, 1, 0, 1])"
            ]
          },
          "metadata": {},
          "execution_count": 6
        }
      ]
    },
    {
      "cell_type": "code",
      "metadata": {
        "id": "X__hKsf8HXz8"
      },
      "source": [
        "df['y_score'] = lr.predict_proba(df[[0,1,2,3,4]])[:,1]"
      ],
      "execution_count": null,
      "outputs": []
    },
    {
      "cell_type": "code",
      "metadata": {
        "id": "BWSqCPIOH5f0"
      },
      "source": [
        "df['y_pred'] = (df['y_score']>0.5)*1"
      ],
      "execution_count": null,
      "outputs": []
    },
    {
      "cell_type": "code",
      "metadata": {
        "id": "MAF97yunIqWR"
      },
      "source": [
        " def get_confusion_matrix(row):\n",
        "    if row['y_true'] == 1 and row['y_pred'] == 1:\n",
        "        return 'TP'\n",
        "    if row['y_true'] == 0 and row['y_pred'] == 1:\n",
        "        return 'FP'\n",
        "    if row['y_true'] == 1 and row['y_pred'] == 0:\n",
        "        return 'FN'\n",
        "    if row['y_true'] == 0 and row['y_pred'] == 0:\n",
        "        return 'TN'"
      ],
      "execution_count": null,
      "outputs": []
    },
    {
      "cell_type": "code",
      "metadata": {
        "id": "xbI2ngqoRt2D"
      },
      "source": [
        "df['C_M_V'] = df.apply(get_confusion_matrix, axis = 1)"
      ],
      "execution_count": null,
      "outputs": []
    },
    {
      "cell_type": "code",
      "metadata": {
        "colab": {
          "base_uri": "https://localhost:8080/",
          "height": 520
        },
        "id": "ow8mXw24R4Fg",
        "outputId": "f4d5c002-ad25-4c74-c1cd-fec9592e2b64"
      },
      "source": [
        "df"
      ],
      "execution_count": null,
      "outputs": [
        {
          "output_type": "execute_result",
          "data": {
            "text/html": [
              "<div>\n",
              "<style scoped>\n",
              "    .dataframe tbody tr th:only-of-type {\n",
              "        vertical-align: middle;\n",
              "    }\n",
              "\n",
              "    .dataframe tbody tr th {\n",
              "        vertical-align: top;\n",
              "    }\n",
              "\n",
              "    .dataframe thead th {\n",
              "        text-align: right;\n",
              "    }\n",
              "</style>\n",
              "<table border=\"1\" class=\"dataframe\">\n",
              "  <thead>\n",
              "    <tr style=\"text-align: right;\">\n",
              "      <th></th>\n",
              "      <th>0</th>\n",
              "      <th>1</th>\n",
              "      <th>2</th>\n",
              "      <th>3</th>\n",
              "      <th>4</th>\n",
              "      <th>y_true</th>\n",
              "      <th>y_score</th>\n",
              "      <th>y_pred</th>\n",
              "      <th>C_M_V</th>\n",
              "    </tr>\n",
              "  </thead>\n",
              "  <tbody>\n",
              "    <tr>\n",
              "      <th>0</th>\n",
              "      <td>-0.330756</td>\n",
              "      <td>0.456232</td>\n",
              "      <td>0.586056</td>\n",
              "      <td>0.361547</td>\n",
              "      <td>1.057122</td>\n",
              "      <td>1</td>\n",
              "      <td>0.722093</td>\n",
              "      <td>1</td>\n",
              "      <td>TP</td>\n",
              "    </tr>\n",
              "    <tr>\n",
              "      <th>1</th>\n",
              "      <td>-0.136681</td>\n",
              "      <td>-0.550740</td>\n",
              "      <td>-0.381580</td>\n",
              "      <td>0.004655</td>\n",
              "      <td>0.931280</td>\n",
              "      <td>1</td>\n",
              "      <td>0.502817</td>\n",
              "      <td>1</td>\n",
              "      <td>TP</td>\n",
              "    </tr>\n",
              "    <tr>\n",
              "      <th>2</th>\n",
              "      <td>-1.394857</td>\n",
              "      <td>1.677553</td>\n",
              "      <td>2.263554</td>\n",
              "      <td>1.476453</td>\n",
              "      <td>-1.763040</td>\n",
              "      <td>1</td>\n",
              "      <td>0.700653</td>\n",
              "      <td>1</td>\n",
              "      <td>TP</td>\n",
              "    </tr>\n",
              "    <tr>\n",
              "      <th>3</th>\n",
              "      <td>-0.292217</td>\n",
              "      <td>-1.112643</td>\n",
              "      <td>-0.761113</td>\n",
              "      <td>0.022643</td>\n",
              "      <td>-0.301104</td>\n",
              "      <td>0</td>\n",
              "      <td>0.253159</td>\n",
              "      <td>0</td>\n",
              "      <td>TN</td>\n",
              "    </tr>\n",
              "    <tr>\n",
              "      <th>4</th>\n",
              "      <td>-0.011965</td>\n",
              "      <td>-0.213767</td>\n",
              "      <td>-0.173091</td>\n",
              "      <td>-0.032009</td>\n",
              "      <td>1.031000</td>\n",
              "      <td>1</td>\n",
              "      <td>0.531244</td>\n",
              "      <td>1</td>\n",
              "      <td>TP</td>\n",
              "    </tr>\n",
              "    <tr>\n",
              "      <th>5</th>\n",
              "      <td>-0.149040</td>\n",
              "      <td>-0.783119</td>\n",
              "      <td>-0.570134</td>\n",
              "      <td>-0.030673</td>\n",
              "      <td>-0.460639</td>\n",
              "      <td>0</td>\n",
              "      <td>0.231577</td>\n",
              "      <td>0</td>\n",
              "      <td>TN</td>\n",
              "    </tr>\n",
              "    <tr>\n",
              "      <th>6</th>\n",
              "      <td>-0.396427</td>\n",
              "      <td>-0.198236</td>\n",
              "      <td>0.073780</td>\n",
              "      <td>0.287451</td>\n",
              "      <td>-0.719844</td>\n",
              "      <td>0</td>\n",
              "      <td>0.323831</td>\n",
              "      <td>0</td>\n",
              "      <td>TN</td>\n",
              "    </tr>\n",
              "    <tr>\n",
              "      <th>7</th>\n",
              "      <td>-0.258120</td>\n",
              "      <td>0.087540</td>\n",
              "      <td>0.230807</td>\n",
              "      <td>0.229577</td>\n",
              "      <td>-0.115648</td>\n",
              "      <td>0</td>\n",
              "      <td>0.431663</td>\n",
              "      <td>0</td>\n",
              "      <td>TN</td>\n",
              "    </tr>\n",
              "    <tr>\n",
              "      <th>8</th>\n",
              "      <td>-0.360848</td>\n",
              "      <td>-0.620500</td>\n",
              "      <td>-0.304138</td>\n",
              "      <td>0.175490</td>\n",
              "      <td>-0.839218</td>\n",
              "      <td>1</td>\n",
              "      <td>0.245193</td>\n",
              "      <td>0</td>\n",
              "      <td>FN</td>\n",
              "    </tr>\n",
              "    <tr>\n",
              "      <th>9</th>\n",
              "      <td>-0.169714</td>\n",
              "      <td>-0.109288</td>\n",
              "      <td>0.010981</td>\n",
              "      <td>0.118279</td>\n",
              "      <td>-1.478522</td>\n",
              "      <td>0</td>\n",
              "      <td>0.171740</td>\n",
              "      <td>0</td>\n",
              "      <td>TN</td>\n",
              "    </tr>\n",
              "    <tr>\n",
              "      <th>10</th>\n",
              "      <td>0.700716</td>\n",
              "      <td>0.041470</td>\n",
              "      <td>-0.391070</td>\n",
              "      <td>-0.568580</td>\n",
              "      <td>0.611676</td>\n",
              "      <td>0</td>\n",
              "      <td>0.272632</td>\n",
              "      <td>0</td>\n",
              "      <td>TN</td>\n",
              "    </tr>\n",
              "    <tr>\n",
              "      <th>11</th>\n",
              "      <td>0.653718</td>\n",
              "      <td>0.410004</td>\n",
              "      <td>-0.051543</td>\n",
              "      <td>-0.457741</td>\n",
              "      <td>-0.385082</td>\n",
              "      <td>0</td>\n",
              "      <td>0.184829</td>\n",
              "      <td>0</td>\n",
              "      <td>TN</td>\n",
              "    </tr>\n",
              "    <tr>\n",
              "      <th>12</th>\n",
              "      <td>-0.438718</td>\n",
              "      <td>0.610767</td>\n",
              "      <td>0.782089</td>\n",
              "      <td>0.480660</td>\n",
              "      <td>0.324084</td>\n",
              "      <td>0</td>\n",
              "      <td>0.648459</td>\n",
              "      <td>1</td>\n",
              "      <td>FP</td>\n",
              "    </tr>\n",
              "    <tr>\n",
              "      <th>13</th>\n",
              "      <td>0.001130</td>\n",
              "      <td>-0.373023</td>\n",
              "      <td>-0.315425</td>\n",
              "      <td>-0.073968</td>\n",
              "      <td>-0.676922</td>\n",
              "      <td>0</td>\n",
              "      <td>0.210290</td>\n",
              "      <td>0</td>\n",
              "      <td>TN</td>\n",
              "    </tr>\n",
              "    <tr>\n",
              "      <th>14</th>\n",
              "      <td>-0.223821</td>\n",
              "      <td>0.497722</td>\n",
              "      <td>0.556043</td>\n",
              "      <td>0.281662</td>\n",
              "      <td>0.343618</td>\n",
              "      <td>1</td>\n",
              "      <td>0.569842</td>\n",
              "      <td>1</td>\n",
              "      <td>TP</td>\n",
              "    </tr>\n",
              "  </tbody>\n",
              "</table>\n",
              "</div>"
            ],
            "text/plain": [
              "           0         1         2         3  ...  y_true   y_score  y_pred  C_M_V\n",
              "0  -0.330756  0.456232  0.586056  0.361547  ...       1  0.722093       1     TP\n",
              "1  -0.136681 -0.550740 -0.381580  0.004655  ...       1  0.502817       1     TP\n",
              "2  -1.394857  1.677553  2.263554  1.476453  ...       1  0.700653       1     TP\n",
              "3  -0.292217 -1.112643 -0.761113  0.022643  ...       0  0.253159       0     TN\n",
              "4  -0.011965 -0.213767 -0.173091 -0.032009  ...       1  0.531244       1     TP\n",
              "5  -0.149040 -0.783119 -0.570134 -0.030673  ...       0  0.231577       0     TN\n",
              "6  -0.396427 -0.198236  0.073780  0.287451  ...       0  0.323831       0     TN\n",
              "7  -0.258120  0.087540  0.230807  0.229577  ...       0  0.431663       0     TN\n",
              "8  -0.360848 -0.620500 -0.304138  0.175490  ...       1  0.245193       0     FN\n",
              "9  -0.169714 -0.109288  0.010981  0.118279  ...       0  0.171740       0     TN\n",
              "10  0.700716  0.041470 -0.391070 -0.568580  ...       0  0.272632       0     TN\n",
              "11  0.653718  0.410004 -0.051543 -0.457741  ...       0  0.184829       0     TN\n",
              "12 -0.438718  0.610767  0.782089  0.480660  ...       0  0.648459       1     FP\n",
              "13  0.001130 -0.373023 -0.315425 -0.073968  ...       0  0.210290       0     TN\n",
              "14 -0.223821  0.497722  0.556043  0.281662  ...       1  0.569842       1     TP\n",
              "\n",
              "[15 rows x 9 columns]"
            ]
          },
          "metadata": {},
          "execution_count": 11
        }
      ]
    },
    {
      "cell_type": "code",
      "metadata": {
        "colab": {
          "base_uri": "https://localhost:8080/"
        },
        "id": "lw-Q8aSXWZGe",
        "outputId": "350fa1a8-121e-48eb-a2d8-8b629323a085"
      },
      "source": [
        "df['C_M_V'].value_counts()"
      ],
      "execution_count": null,
      "outputs": [
        {
          "output_type": "execute_result",
          "data": {
            "text/plain": [
              "TN    8\n",
              "TP    5\n",
              "FN    1\n",
              "FP    1\n",
              "Name: C_M_V, dtype: int64"
            ]
          },
          "metadata": {},
          "execution_count": 12
        }
      ]
    },
    {
      "cell_type": "code",
      "metadata": {
        "colab": {
          "base_uri": "https://localhost:8080/"
        },
        "id": "ZFNa4no7R65o",
        "outputId": "b1d9ff5c-62a2-446c-e9a3-ae5af1ac33f5"
      },
      "source": [
        "from sklearn.metrics import confusion_matrix\n",
        "confusion_matrix(df['y_true'], df['y_pred'])"
      ],
      "execution_count": null,
      "outputs": [
        {
          "output_type": "execute_result",
          "data": {
            "text/plain": [
              "array([[8, 1],\n",
              "       [1, 5]])"
            ]
          },
          "metadata": {},
          "execution_count": 13
        }
      ]
    },
    {
      "cell_type": "code",
      "metadata": {
        "id": "Cdkp_qPtTS2p"
      },
      "source": [
        "thrs = np.sort(df['y_score'].unique())"
      ],
      "execution_count": null,
      "outputs": []
    },
    {
      "cell_type": "code",
      "metadata": {
        "colab": {
          "base_uri": "https://localhost:8080/"
        },
        "id": "Tnyidj6TWk0a",
        "outputId": "5fc23e26-a244-4d1a-bc3b-ae765596900f"
      },
      "source": [
        "thrs"
      ],
      "execution_count": null,
      "outputs": [
        {
          "output_type": "execute_result",
          "data": {
            "text/plain": [
              "array([0.17174035, 0.18482864, 0.21028964, 0.23157701, 0.24519295,\n",
              "       0.25315883, 0.27263169, 0.32383082, 0.43166254, 0.50281701,\n",
              "       0.53124444, 0.56984163, 0.6484592 , 0.70065318, 0.7220926 ])"
            ]
          },
          "metadata": {},
          "execution_count": 64
        }
      ]
    },
    {
      "cell_type": "code",
      "metadata": {
        "id": "FGOJa5pRUMC5"
      },
      "source": [
        "cm_for_thresholds = pd.DataFrame({'thrs': thrs})"
      ],
      "execution_count": null,
      "outputs": []
    },
    {
      "cell_type": "code",
      "metadata": {
        "id": "4tdS-x-egMP8"
      },
      "source": [
        "cm_for_thresholds['y_true'] = df['y_true']"
      ],
      "execution_count": null,
      "outputs": []
    },
    {
      "cell_type": "code",
      "metadata": {
        "colab": {
          "base_uri": "https://localhost:8080/"
        },
        "id": "UmXSHjw_iaix",
        "outputId": "5ee3843d-2f03-4080-d65c-be880c835bf2"
      },
      "source": [
        "cm_for_thresholds['y_pred'] = (df['y_score'] >  cm_for_thresholds['thrs']) * 1  \n",
        "cm_for_thresholds['C_M_V'] = cm_for_thresholds.apply(get_confusion_matrix, axis = 1)\n",
        "cm_for_thresholds['C_M_V'].value_counts()"
      ],
      "execution_count": null,
      "outputs": [
        {
          "output_type": "execute_result",
          "data": {
            "text/plain": [
              "TN    6\n",
              "TP    4\n",
              "FP    3\n",
              "FN    2\n",
              "Name: C_M_V, dtype: int64"
            ]
          },
          "metadata": {},
          "execution_count": 67
        }
      ]
    },
    {
      "cell_type": "code",
      "metadata": {
        "colab": {
          "base_uri": "https://localhost:8080/",
          "height": 520
        },
        "id": "iPft9_8yiXYV",
        "outputId": "98703044-7853-4bef-e36b-027b95d70987"
      },
      "source": [
        "cm_for_thresholds"
      ],
      "execution_count": null,
      "outputs": [
        {
          "output_type": "execute_result",
          "data": {
            "text/html": [
              "<div>\n",
              "<style scoped>\n",
              "    .dataframe tbody tr th:only-of-type {\n",
              "        vertical-align: middle;\n",
              "    }\n",
              "\n",
              "    .dataframe tbody tr th {\n",
              "        vertical-align: top;\n",
              "    }\n",
              "\n",
              "    .dataframe thead th {\n",
              "        text-align: right;\n",
              "    }\n",
              "</style>\n",
              "<table border=\"1\" class=\"dataframe\">\n",
              "  <thead>\n",
              "    <tr style=\"text-align: right;\">\n",
              "      <th></th>\n",
              "      <th>thrs</th>\n",
              "      <th>y_true</th>\n",
              "      <th>y_pred</th>\n",
              "      <th>C_M_V</th>\n",
              "    </tr>\n",
              "  </thead>\n",
              "  <tbody>\n",
              "    <tr>\n",
              "      <th>0</th>\n",
              "      <td>0.171740</td>\n",
              "      <td>1</td>\n",
              "      <td>1</td>\n",
              "      <td>TP</td>\n",
              "    </tr>\n",
              "    <tr>\n",
              "      <th>1</th>\n",
              "      <td>0.184829</td>\n",
              "      <td>1</td>\n",
              "      <td>1</td>\n",
              "      <td>TP</td>\n",
              "    </tr>\n",
              "    <tr>\n",
              "      <th>2</th>\n",
              "      <td>0.210290</td>\n",
              "      <td>1</td>\n",
              "      <td>1</td>\n",
              "      <td>TP</td>\n",
              "    </tr>\n",
              "    <tr>\n",
              "      <th>3</th>\n",
              "      <td>0.231577</td>\n",
              "      <td>0</td>\n",
              "      <td>1</td>\n",
              "      <td>FP</td>\n",
              "    </tr>\n",
              "    <tr>\n",
              "      <th>4</th>\n",
              "      <td>0.245193</td>\n",
              "      <td>1</td>\n",
              "      <td>1</td>\n",
              "      <td>TP</td>\n",
              "    </tr>\n",
              "    <tr>\n",
              "      <th>5</th>\n",
              "      <td>0.253159</td>\n",
              "      <td>0</td>\n",
              "      <td>0</td>\n",
              "      <td>TN</td>\n",
              "    </tr>\n",
              "    <tr>\n",
              "      <th>6</th>\n",
              "      <td>0.272632</td>\n",
              "      <td>0</td>\n",
              "      <td>1</td>\n",
              "      <td>FP</td>\n",
              "    </tr>\n",
              "    <tr>\n",
              "      <th>7</th>\n",
              "      <td>0.323831</td>\n",
              "      <td>0</td>\n",
              "      <td>1</td>\n",
              "      <td>FP</td>\n",
              "    </tr>\n",
              "    <tr>\n",
              "      <th>8</th>\n",
              "      <td>0.431663</td>\n",
              "      <td>1</td>\n",
              "      <td>0</td>\n",
              "      <td>FN</td>\n",
              "    </tr>\n",
              "    <tr>\n",
              "      <th>9</th>\n",
              "      <td>0.502817</td>\n",
              "      <td>0</td>\n",
              "      <td>0</td>\n",
              "      <td>TN</td>\n",
              "    </tr>\n",
              "    <tr>\n",
              "      <th>10</th>\n",
              "      <td>0.531244</td>\n",
              "      <td>0</td>\n",
              "      <td>0</td>\n",
              "      <td>TN</td>\n",
              "    </tr>\n",
              "    <tr>\n",
              "      <th>11</th>\n",
              "      <td>0.569842</td>\n",
              "      <td>0</td>\n",
              "      <td>0</td>\n",
              "      <td>TN</td>\n",
              "    </tr>\n",
              "    <tr>\n",
              "      <th>12</th>\n",
              "      <td>0.648459</td>\n",
              "      <td>0</td>\n",
              "      <td>0</td>\n",
              "      <td>TN</td>\n",
              "    </tr>\n",
              "    <tr>\n",
              "      <th>13</th>\n",
              "      <td>0.700653</td>\n",
              "      <td>0</td>\n",
              "      <td>0</td>\n",
              "      <td>TN</td>\n",
              "    </tr>\n",
              "    <tr>\n",
              "      <th>14</th>\n",
              "      <td>0.722093</td>\n",
              "      <td>1</td>\n",
              "      <td>0</td>\n",
              "      <td>FN</td>\n",
              "    </tr>\n",
              "  </tbody>\n",
              "</table>\n",
              "</div>"
            ],
            "text/plain": [
              "        thrs  y_true  y_pred C_M_V\n",
              "0   0.171740       1       1    TP\n",
              "1   0.184829       1       1    TP\n",
              "2   0.210290       1       1    TP\n",
              "3   0.231577       0       1    FP\n",
              "4   0.245193       1       1    TP\n",
              "5   0.253159       0       0    TN\n",
              "6   0.272632       0       1    FP\n",
              "7   0.323831       0       1    FP\n",
              "8   0.431663       1       0    FN\n",
              "9   0.502817       0       0    TN\n",
              "10  0.531244       0       0    TN\n",
              "11  0.569842       0       0    TN\n",
              "12  0.648459       0       0    TN\n",
              "13  0.700653       0       0    TN\n",
              "14  0.722093       1       0    FN"
            ]
          },
          "metadata": {},
          "execution_count": 68
        }
      ]
    },
    {
      "cell_type": "code",
      "metadata": {
        "id": "-b0nMF39g6oG"
      },
      "source": [
        "thr = thrs[0]\n",
        "result=[]\n",
        "for thr in thrs:\n",
        "    cm_for_thresholds['y_pred'] = (df['y_score'] >  thr) * 1  \n",
        "    tp = len(cm_for_thresholds[(cm_for_thresholds['y_true']==1)&(cm_for_thresholds['y_pred']== 1)])\n",
        "    tn = len(cm_for_thresholds[(cm_for_thresholds['y_true']==0)&(cm_for_thresholds['y_pred']== 0)])\n",
        "    fp = len(cm_for_thresholds[(cm_for_thresholds['y_true']==0)&(cm_for_thresholds['y_pred']== 1)])\n",
        "    fn = len(cm_for_thresholds[(cm_for_thresholds['y_true']==1)&(cm_for_thresholds['y_pred']== 0)])\n",
        "    result.append((tp,tn,fp,fn,thr))"
      ],
      "execution_count": null,
      "outputs": []
    },
    {
      "cell_type": "code",
      "metadata": {
        "id": "qQQASgm1hP1F"
      },
      "source": [
        "confusion_matrix = pd.DataFrame(result)\n",
        "confusion_matrix.columns = ['tp','tn','fp','fn','thr']\n",
        "confusion_matrix['true_positive_rate'] = confusion_matrix['tp'] / (confusion_matrix['tp'] + confusion_matrix['fn'])\n",
        "confusion_matrix['false_positive_rate'] = confusion_matrix['fp'] / (confusion_matrix['fp'] + confusion_matrix['tn'])"
      ],
      "execution_count": null,
      "outputs": []
    },
    {
      "cell_type": "code",
      "metadata": {
        "colab": {
          "base_uri": "https://localhost:8080/",
          "height": 407
        },
        "id": "y8p319U8kYfJ",
        "outputId": "1457a25e-fe66-442d-f4a1-9597cf076011"
      },
      "source": [
        "confusion_matrix.plot(x = 'false_positive_rate', y = 'true_positive_rate',figsize = (6,6)) "
      ],
      "execution_count": null,
      "outputs": [
        {
          "output_type": "execute_result",
          "data": {
            "text/plain": [
              "<matplotlib.axes._subplots.AxesSubplot at 0x7fde30b214d0>"
            ]
          },
          "metadata": {},
          "execution_count": 71
        },
        {
          "output_type": "display_data",
          "data": {
            "image/png": "[encoded data removed]",
            "text/plain": [
              "<Figure size 432x432 with 1 Axes>"
            ]
          },
          "metadata": {
            "needs_background": "light"
          }
        }
      ]
    },
    {
      "cell_type": "code",
      "metadata": {
        "colab": {
          "base_uri": "https://localhost:8080/"
        },
        "id": "6Awk1qN9lZKW",
        "outputId": "0214dead-be5c-4772-edf2-8b05f9d5e547"
      },
      "source": [
        "0.431"
      ],
      "execution_count": null,
      "outputs": [
        {
          "output_type": "execute_result",
          "data": {
            "text/plain": [
              "0.431"
            ]
          },
          "metadata": {},
          "execution_count": 74
        }
      ]
    },
    {
      "cell_type": "code",
      "metadata": {
        "colab": {
          "base_uri": "https://localhost:8080/"
        },
        "id": "49Xu-i3vurAO",
        "outputId": "f66bd624-72fd-4f4c-d7a1-029b2abc894f"
      },
      "source": [
        "from sklearn.metrics import roc_auc_score \n",
        "roc_auc_score(df['y_true'], df['y_score'])"
      ],
      "execution_count": null,
      "outputs": [
        {
          "output_type": "execute_result",
          "data": {
            "text/plain": [
              "0.8518518518518519"
            ]
          },
          "metadata": {},
          "execution_count": 75
        }
      ]
    },
    {
      "cell_type": "code",
      "metadata": {
        "id": "68WY6SOQwwa7"
      },
      "source": [
        ""
      ],
      "execution_count": null,
      "outputs": []
    }
  ]
}